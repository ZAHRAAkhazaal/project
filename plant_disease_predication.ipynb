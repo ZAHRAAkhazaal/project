{
  "nbformat": 4,
  "nbformat_minor": 0,
  "metadata": {
    "colab": {
      "private_outputs": true,
      "provenance": [],
      "gpuType": "T4"
    },
    "kernelspec": {
      "name": "python3",
      "display_name": "Python 3"
    },
    "language_info": {
      "name": "python"
    },
    "accelerator": "GPU"
  },
  "cells": [
    {
      "cell_type": "code",
      "execution_count": null,
      "metadata": {
        "id": "BDet7nYik7lO"
      },
      "outputs": [],
      "source": [
        "import tensorflow as tf\n",
        "import pandas as pd\n",
        "import numpy as np\n",
        "from sklearn import model_selection\n"
      ]
    },
    {
      "cell_type": "code",
      "source": [
        "!mkdir ~/.kaggle"
      ],
      "metadata": {
        "id": "pcQgMYWQlbF8"
      },
      "execution_count": null,
      "outputs": []
    },
    {
      "cell_type": "code",
      "source": [
        "!cp kaggle.json ~/.kaggle"
      ],
      "metadata": {
        "id": "ncJLwpDNlbI9"
      },
      "execution_count": null,
      "outputs": []
    },
    {
      "cell_type": "code",
      "source": [
        "!chmod 600 ~/.kaggle/kaggle.json"
      ],
      "metadata": {
        "id": "7_ogbtrslbOg"
      },
      "execution_count": null,
      "outputs": []
    },
    {
      "cell_type": "code",
      "source": [
        "!kaggle datasets download -d abdallahalidev/plantvillage-dataset"
      ],
      "metadata": {
        "id": "fVNBvcSBlbTL"
      },
      "execution_count": null,
      "outputs": []
    },
    {
      "cell_type": "code",
      "source": [
        "!unzip /content/plantvillage-dataset.zip"
      ],
      "metadata": {
        "id": "8WMS1FY3lbWL"
      },
      "execution_count": null,
      "outputs": []
    },
    {
      "cell_type": "code",
      "source": [
        "import imageio as iio\n",
        "imag=iio.imread('/content/plantvillage dataset/color/Apple___Apple_scab/00075aa8-d81a-4184-8541-b692b78d398a___FREC_Scab 3335.JPG')\n",
        "imag.shape"
      ],
      "metadata": {
        "id": "R6fnThPzlbZC"
      },
      "execution_count": null,
      "outputs": []
    },
    {
      "cell_type": "code",
      "source": [
        "pip install split-folders"
      ],
      "metadata": {
        "id": "4S7fY0KK76jp"
      },
      "execution_count": null,
      "outputs": []
    },
    {
      "cell_type": "code",
      "source": [
        "import splitfolders\n",
        "splitfolders.ratio('/content/plantvillage dataset/color', output=\"output\", seed=1337, ratio=(.8, .2), group_prefix=None)"
      ],
      "metadata": {
        "id": "iKkzU1i071o9"
      },
      "execution_count": null,
      "outputs": []
    },
    {
      "cell_type": "code",
      "source": [
        "train=tf.keras.preprocessing.image_dataset_from_directory('/content/output/train',label_mode='categorical',\n",
        "                                                          image_size=[256,256],batch_size=32,shuffle=1000,seed=42)"
      ],
      "metadata": {
        "id": "C82hbewElbbl"
      },
      "execution_count": null,
      "outputs": []
    },
    {
      "cell_type": "code",
      "source": [
        "val=tf.keras.preprocessing.image_dataset_from_directory('/content/output/val',\n",
        "                                                        image_size=[256,256],\n",
        "                                                        shuffle=1000,batch_size=32,label_mode='categorical')"
      ],
      "metadata": {
        "id": "3qrmqYFelbek"
      },
      "execution_count": null,
      "outputs": []
    },
    {
      "cell_type": "code",
      "source": [
        "for img,label in train.take(1):\n",
        "  print(img[0])\n"
      ],
      "metadata": {
        "id": "J-SuDeDQlbhe"
      },
      "execution_count": null,
      "outputs": []
    },
    {
      "cell_type": "code",
      "source": [
        "def preprocess(img,label):\n",
        "  img=img/255\n",
        "  print(img,label)\n",
        "  dataset=dataset.map(preprocess,num_parallel_calls=tf.data.experimental.AUTOTUNE)"
      ],
      "metadata": {
        "id": "Mpj86mPslbkh"
      },
      "execution_count": null,
      "outputs": []
    },
    {
      "cell_type": "code",
      "source": [
        "def img_augmentation(img,label):\n",
        "  img=tf.image.random_flip_left_right(img)\n",
        "  img=tf.image.random_flip_up_down(img)\n",
        "  img=tf.image.random_brightness(img,max_delta=.2)\n",
        "  img=tf.clip_by_value(img,0,1)\n",
        "  return img,label"
      ],
      "metadata": {
        "id": "-LfEu_UUlbno"
      },
      "execution_count": null,
      "outputs": []
    },
    {
      "cell_type": "code",
      "source": [
        "def prepare_dataset(dataset,training):\n",
        "  # dataset=dataset.map(preprocess,num_parallel_calls=tf.data.experimental.AUTOTUNE)\n",
        "  dataset.prefetch(tf.data.AUTOTUNE)\n",
        "  if training:\n",
        "    dataset=dataset.map(img_augmentation)\n",
        "    return dataset\n",
        "train_dataset=prepare_dataset(train,training=True)\n",
        "test_dataset=prepare_dataset(val,training=False)"
      ],
      "metadata": {
        "id": "Q22Z41czlbqX"
      },
      "execution_count": null,
      "outputs": []
    },
    {
      "cell_type": "code",
      "source": [
        "len(train_dataset)"
      ],
      "metadata": {
        "id": "LtviJ9Mplbs6"
      },
      "execution_count": null,
      "outputs": []
    },
    {
      "cell_type": "code",
      "source": [
        "for img,label in train_dataset.take(1):\n",
        "  print (label[0])\n",
        "  print(img[0])"
      ],
      "metadata": {
        "id": "LjvnI4Cblbv-"
      },
      "execution_count": null,
      "outputs": []
    },
    {
      "cell_type": "markdown",
      "source": [
        "#Modeling"
      ],
      "metadata": {
        "id": "kwjSavqGaUmC"
      }
    },
    {
      "cell_type": "code",
      "source": [
        "model_cnn=tf.keras.models.Sequential(\n",
        "    [\n",
        "        tf.keras.layers.Conv2D(filters=32,kernel_size=3,\n",
        "                               activation='relu',padding='same',kernel_initializer='he_normal',input_shape=[256,256,3]\n",
        "            \n",
        "        ),\n",
        "        tf.keras.layers.MaxPool2D(pool_size=(2,2)),\n",
        "        tf.keras.layers.Conv2D(filters=64,kernel_size=3,padding='same', kernel_initializer='he_normal',activation='relu'),\n",
        "     tf.keras.layers.MaxPool2D(pool_size=(2,2)),\n",
        "     tf.keras.layers.Conv2D(filters=128,kernel_size=3,activation='relu',padding='same'),\n",
        "     tf.keras.layers.MaxPool2D(pool_size=(2,2)),\n",
        "     tf.keras.layers.Flatten(),\n",
        "     tf.keras.layers.Dense(256,activation='relu'),\n",
        "     tf.keras.layers.Dense(38,activation='softmax')\n",
        "\n",
        "\n",
        "     \n",
        "    ]\n",
        ")"
      ],
      "metadata": {
        "id": "rjWu2W0VlbzJ"
      },
      "execution_count": null,
      "outputs": []
    },
    {
      "cell_type": "code",
      "source": [
        "model_cnn.compile(\n",
        "    optimizer=tf.keras.optimizers.Adam(learning_rate=.001,beta_1=.9,beta_2=.999),\n",
        "    loss=tf.keras.losses.CategoricalCrossentropy(),\n",
        "    metrics=[tf.metrics.CategoricalAccuracy()]\n",
        ")\n",
        "\n",
        "early_stopping = tf.keras.callbacks.EarlyStopping(patience=7, restore_best_weights=True)\n",
        "LR=tf.keras.callbacks.ReduceLROnPlateau(mointor=\"val_loss\",\n",
        "                                        factor=.1,\n",
        "                                        patience=7)\n",
        "\n",
        "\n",
        "model_cnn.fit(train_dataset,\n",
        "                    validation_data = test_dataset,epochs=100,callbacks=[early_stopping,LR])"
      ],
      "metadata": {
        "id": "f-6TW3ACqfhx"
      },
      "execution_count": null,
      "outputs": []
    }
  ]
}