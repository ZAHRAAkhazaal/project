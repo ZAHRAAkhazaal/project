{
  "nbformat": 4,
  "nbformat_minor": 0,
  "metadata": {
    "colab": {
      "private_outputs": true,
      "provenance": []
    },
    "kernelspec": {
      "name": "python3",
      "display_name": "Python 3"
    },
    "language_info": {
      "name": "python"
    }
  },
  "cells": [
    {
      "cell_type": "code",
      "execution_count": null,
      "metadata": {
        "id": "10Ho07Il-5w6"
      },
      "outputs": [],
      "source": [
        "import numpy as np\n",
        "import pandas as pd\n",
        "import tensorflow as tf\n",
        "from sklearn.model_selection import train_test_split\n"
      ]
    },
    {
      "cell_type": "code",
      "source": [
        "!mkdir ~/.kaggle"
      ],
      "metadata": {
        "id": "-HSuW9mZ_L-X"
      },
      "execution_count": null,
      "outputs": []
    },
    {
      "cell_type": "code",
      "source": [
        "!cp kaggle.json ~/.kaggle/"
      ],
      "metadata": {
        "id": "xp40_LEb_MBl"
      },
      "execution_count": null,
      "outputs": []
    },
    {
      "cell_type": "code",
      "source": [
        "!chmod 600 ~/.kaggle/kaggle.json"
      ],
      "metadata": {
        "id": "DD0XtvDA_MEH"
      },
      "execution_count": null,
      "outputs": []
    },
    {
      "cell_type": "code",
      "source": [
        "!kaggle competitions download -c digit-recognizer"
      ],
      "metadata": {
        "id": "-4wyi0nj_MGV"
      },
      "execution_count": null,
      "outputs": []
    },
    {
      "cell_type": "code",
      "source": [
        "!unzip /content/digit-recognizer.zip"
      ],
      "metadata": {
        "id": "qn-weE9E_MI6"
      },
      "execution_count": null,
      "outputs": []
    },
    {
      "cell_type": "code",
      "source": [
        "train=pd.read_csv('train.csv')"
      ],
      "metadata": {
        "id": "nUHkTCvw_MLX"
      },
      "execution_count": null,
      "outputs": []
    },
    {
      "cell_type": "code",
      "source": [
        "x=train.iloc[0:5000,1:]\n",
        "y=train.iloc[0:5000,:1]"
      ],
      "metadata": {
        "id": "nMuCMKO5cH47"
      },
      "execution_count": null,
      "outputs": []
    },
    {
      "cell_type": "code",
      "source": [
        "x_train,x_test,y_train,y_test=train_test_split(x,y,test_size=.2,stratify=y,random_state=42)"
      ],
      "metadata": {
        "id": "xAAZ6fJK_Mcl"
      },
      "execution_count": null,
      "outputs": []
    },
    {
      "cell_type": "markdown",
      "source": [
        "#Represent the digit as image"
      ],
      "metadata": {
        "id": "nPLoPp52bFa1"
      }
    },
    {
      "cell_type": "code",
      "source": [
        "import matplotlib.pyplot as plt, matplotlib.image as mpimg\n",
        "i=1\n",
        "img=x_train.iloc[i].to_numpy()\n",
        "img=img.reshape((28,28))\n",
        "plt.imshow(img,cmap='gray')"
      ],
      "metadata": {
        "id": "3vk4hULobKBJ"
      },
      "execution_count": null,
      "outputs": []
    },
    {
      "cell_type": "code",
      "source": [
        "x_train=x_train.values.reshape((-1,28,28,1))\n",
        "x_test=x_test.values.reshape(-1,28,28,1)\n"
      ],
      "metadata": {
        "id": "Xk-K7Awho4Nm"
      },
      "execution_count": null,
      "outputs": []
    },
    {
      "cell_type": "code",
      "source": [
        "from keras.utils.np_utils import to_categorical # convert to one-hot-encoding\n",
        "y_train=to_categorical(y_train)\n",
        "y_test=to_categorical(y_test)\n"
      ],
      "metadata": {
        "id": "45d2VEOX1ckv"
      },
      "execution_count": null,
      "outputs": []
    },
    {
      "cell_type": "markdown",
      "source": [
        "Model cnn"
      ],
      "metadata": {
        "id": "RWqocT-9pv5l"
      }
    },
    {
      "cell_type": "code",
      "source": [
        "model_cnn=tf.keras.Sequential([\n",
        "    tf.keras.layers.Conv2D(filters=64,kernel_size=3,activation='relu',input_shape=(28,28,1),padding='same'),\n",
        "    tf.keras.layers.MaxPool2D(pool_size=(2,2)),\n",
        "    tf.keras.layers.Conv2D(filters=128,kernel_size=3,activation='relu',padding='same'),\n",
        "    tf.keras.layers.MaxPool2D(pool_size=(2,2)),\n",
        "    #    tf.keras.layers.Conv2D(filters=64,kernel_size=3,activation='relu',padding='same'),\n",
        "    # tf.keras.layers.MaxPool2D(pool_size=(2,2)),\n",
        "    #       tf.keras.layers.Conv2D(filters=128,kernel_size=3,activation='relu',padding='same'),\n",
        "    # tf.keras.layers.MaxPool2D(pool_size=(2,2)),\n",
        "    tf.keras.layers.Flatten(),\n",
        "    tf.keras.layers.Dense(64,activation='relu'),\n",
        "    tf.keras.layers.Dense(10,activation='softmax')\n",
        "\n",
        "])"
      ],
      "metadata": {
        "id": "KoshdtNOpvQu"
      },
      "execution_count": null,
      "outputs": []
    },
    {
      "cell_type": "code",
      "source": [
        "model_cnn.compile(loss='CategoricalCrossentropy',\n",
        "                  optimizer=tf.keras.optimizers.Adam(learning_rate=.001,beta_1=.9,beta_2=.99),\n",
        "                  metrics=[tf.keras.metrics.CategoricalAccuracy()])\n",
        "early_stop=tf.keras.callbacks.EarlyStopping(patience=5)\n",
        "lr=tf.keras.callbacks.ReduceLROnPlateau(patience=5,monitor='vall_loss',factor=0.1)\n",
        "\n",
        "model_cnn.fit(x_train,y_train,epochs=50,validation_data=(x_test,y_test),callbacks=[lr,early_stop])"
      ],
      "metadata": {
        "id": "QWQrzQrZrXX7"
      },
      "execution_count": null,
      "outputs": []
    },
    {
      "cell_type": "code",
      "source": [
        "test=pd.read_csv('test.csv')"
      ],
      "metadata": {
        "id": "M4u85YAO_MN0"
      },
      "execution_count": null,
      "outputs": []
    },
    {
      "cell_type": "markdown",
      "source": [
        "Predict"
      ],
      "metadata": {
        "id": "eTqj1qn43ONd"
      }
    },
    {
      "cell_type": "code",
      "source": [
        "test=test.values.reshape(-1,28,28,1)"
      ],
      "metadata": {
        "id": "b8uAAxQV3PdO"
      },
      "execution_count": null,
      "outputs": []
    },
    {
      "cell_type": "code",
      "source": [
        "y_pred=model_cnn.predict(test)\n"
      ],
      "metadata": {
        "id": "2DXVjQPV3NSP"
      },
      "execution_count": null,
      "outputs": []
    },
    {
      "cell_type": "code",
      "source": [
        "pred=np.argmax(y_pred,axis=-1)"
      ],
      "metadata": {
        "id": "6qOnJnsu3Ntg"
      },
      "execution_count": null,
      "outputs": []
    },
    {
      "cell_type": "code",
      "source": [
        "submit=pd.read_csv('/content/sample_submission.csv')"
      ],
      "metadata": {
        "id": "PCdqK2PF3NxH"
      },
      "execution_count": null,
      "outputs": []
    },
    {
      "cell_type": "code",
      "source": [
        "submit['Label']=pred"
      ],
      "metadata": {
        "id": "9LOh_eW53N1O"
      },
      "execution_count": null,
      "outputs": []
    },
    {
      "cell_type": "code",
      "source": [
        "submit"
      ],
      "metadata": {
        "id": "0JrFHW1nEU0h"
      },
      "execution_count": null,
      "outputs": []
    },
    {
      "cell_type": "code",
      "source": [
        "submit.to_csv('digit.csv', index=False)"
      ],
      "metadata": {
        "id": "kW0hIusu33pm"
      },
      "execution_count": null,
      "outputs": []
    },
    {
      "cell_type": "code",
      "source": [
        "#same as submition above\n",
        "y_pred = np.argmax(model_cnn.predict(test), axis=-1)\n",
        "\n",
        "submission = pd.read_csv('/content/sample_submission.csv')\n",
        "submission.Label = y_pred\n",
        "\n",
        "submission.to_csv('submission.csv', index=False)"
      ],
      "metadata": {
        "id": "XX_hTX-NOmu0"
      },
      "execution_count": null,
      "outputs": []
    },
    {
      "cell_type": "code",
      "source": [],
      "metadata": {
        "id": "bJm63F3_ePA5"
      },
      "execution_count": null,
      "outputs": []
    }
  ]
}